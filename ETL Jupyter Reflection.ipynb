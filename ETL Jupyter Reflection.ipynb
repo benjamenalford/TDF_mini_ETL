{
 "metadata": {
  "orig_nbformat": 2,
  "kernelspec": {
   "name": "python3",
   "display_name": "Python 3",
   "language": "python"
  }
 },
 "nbformat": 4,
 "nbformat_minor": 2,
 "cells": [
  {
   "cell_type": "code",
   "execution_count": 3,
   "metadata": {},
   "outputs": [],
   "source": [
    "from sqlalchemy.orm import Session\n",
    "from sqlalchemy import Column, Integer, String, Float, DateTime, ForeignKey, Sequence\n",
    "from sqlalchemy import create_engine\n",
    "from sqlalchemy.ext.declarative import declarative_base\n",
    "from sqlalchemy.ext.automap import automap_base\n",
    "from sqlalchemy.orm import Session\n",
    "import csv\n",
    "import requests\n",
    "from config import gkey"
   ]
  },
  {
   "cell_type": "code",
   "execution_count": null,
   "metadata": {},
   "outputs": [],
   "source": [
    "data_file = \"./Data/stages_TDF.csv\""
   ]
  },
  {
   "cell_type": "code",
   "execution_count": null,
   "metadata": {},
   "outputs": [],
   "source": [
    "def geoCode(place):\n",
    "    # simple geo code function using the goog tube\n",
    "    target_url = f\"https://maps.googleapis.com/maps/api/geocode/json?address={place}&key={gkey}\"\n",
    "    geo_data = requests.get(target_url).json()\n",
    "\n",
    "    # so much YOLO, wind it up like a top till it breaks\n",
    "    lat = 0\n",
    "    lng = 0\n",
    "    try:\n",
    "        lat = geo_data[\"results\"][0][\"geometry\"][\"location\"][\"lat\"]\n",
    "        lng = geo_data[\"results\"][0][\"geometry\"][\"location\"][\"lng\"]\n",
    "    except:\n",
    "        pass  # the dutchie to the left hand side\n",
    "\n"
   ]
  },
  {
   "cell_type": "code",
   "execution_count": 4,
   "metadata": {},
   "outputs": [
    {
     "output_type": "execute_result",
     "data": {
      "text/plain": [
       "['stage_location', 'stage_type', 'country', 'rider', 'stage']"
      ]
     },
     "metadata": {},
     "execution_count": 4
    }
   ],
   "source": [
    "# setup the DB\n",
    "db_connection_string = \"postgres:postgres@localhost:5433/TDF\"\n",
    "\n",
    "engine = create_engine(f'postgresql://{db_connection_string}')\n",
    "\n",
    "#setup to reflect\n",
    "Base = automap_base()\n",
    "Base.prepare(engine, reflect=True)\n",
    "session = Session(bind=engine)\n",
    "\n",
    "#shoe the tables that exist\n",
    "Base.classes.keys()"
   ]
  },
  {
   "cell_type": "code",
   "execution_count": 5,
   "metadata": {},
   "outputs": [],
   "source": [
    "def geoCode(place):\n",
    "    # simple geo code function using the goog tube\n",
    "    target_url = f\"https://maps.googleapis.com/maps/api/geocode/json?address={place}&key={gkey}\"\n",
    "    geo_data = requests.get(target_url).json()\n",
    "\n",
    "    # so much YOLO, wind it up like a top till it breaks\n",
    "    lat = 0\n",
    "    lng = 0\n",
    "    try:\n",
    "        lat = geo_data[\"results\"][0][\"geometry\"][\"location\"][\"lat\"]\n",
    "        lng = geo_data[\"results\"][0][\"geometry\"][\"location\"][\"lng\"]\n",
    "    except:\n",
    "        pass  # the dutchie to the left hand side\n",
    "\n"
   ]
  },
  {
   "cell_type": "code",
   "execution_count": null,
   "metadata": {},
   "outputs": [],
   "source": []
  }
 ]
}