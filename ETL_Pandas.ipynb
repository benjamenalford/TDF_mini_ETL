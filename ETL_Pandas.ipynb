{
 "metadata": {
  "language_info": {
   "codemirror_mode": {
    "name": "ipython",
    "version": 3
   },
   "file_extension": ".py",
   "mimetype": "text/x-python",
   "name": "python",
   "nbconvert_exporter": "python",
   "pygments_lexer": "ipython3",
   "version": 3
  },
  "orig_nbformat": 2
 },
 "nbformat": 4,
 "nbformat_minor": 2,
 "cells": [
  {
   "cell_type": "code",
   "execution_count": null,
   "metadata": {},
   "outputs": [],
   "source": [
    "from sqlalchemy.orm import Session\n",
    "from sqlalchemy import Column, Integer, String, Float, DateTime, ForeignKey, Sequence\n",
    "from sqlalchemy import create_engine\n",
    "from sqlalchemy.ext.declarative import declarative_base\n",
    "import csv\n",
    "import requests\n",
    "from config import gkey"
   ]
  },
  {
   "cell_type": "code",
   "execution_count": null,
   "metadata": {},
   "outputs": [],
   "source": [
    "data_file = \"./Data/stages_TDF.csv\""
   ]
  },
  {
   "cell_type": "code",
   "execution_count": null,
   "metadata": {},
   "outputs": [],
   "source": [
    "def geoCode(place):\n",
    "    # simple geo code function using the goog tube\n",
    "    target_url = f\"https://maps.googleapis.com/maps/api/geocode/json?address={place}&key={gkey}\"\n",
    "    geo_data = requests.get(target_url).json()\n",
    "\n",
    "    # so much YOLO, wind it up like a top till it breaks\n",
    "    lat = 0\n",
    "    lng = 0\n",
    "    try:\n",
    "        lat = geo_data[\"results\"][0][\"geometry\"][\"location\"][\"lat\"]\n",
    "        lng = geo_data[\"results\"][0][\"geometry\"][\"location\"][\"lng\"]\n",
    "    except:\n",
    "        pass  # the dutchie to the left hand side\n",
    "\n"
   ]
  },
  {
   "cell_type": "code",
   "execution_count": null,
   "metadata": {},
   "outputs": [],
   "source": [
    "# setup the DB\n",
    "Base = declarative_base()\n",
    "db_connection_string = \"postgres:postgres@localhost:5433/TDF\"\n",
    "\n",
    "engine = create_engine(f'postgresql://{db_connection_string}')\n",
    "# kill everything\n",
    "Base.metadata.drop_all(engine)\n",
    "# rebuild the tables\n",
    "#Base.metadata.create_all(engine)\n",
    "# start the session\n",
    "session = Session(bind=engine)"
   ]
  }
 ]
}