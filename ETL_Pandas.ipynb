{
 "metadata": {
  "orig_nbformat": 2,
  "kernelspec": {
   "name": "python3",
   "display_name": "Python 3",
   "language": "python"
  }
 },
 "nbformat": 4,
 "nbformat_minor": 2,
 "cells": [
  {
   "cell_type": "code",
   "execution_count": 1,
   "metadata": {},
   "outputs": [],
   "source": [
    "import pandas as pd\n",
    "import csv\n",
    "import requests\n",
    "from config import gkey\n",
    "from sqlalchemy import create_engine"
   ]
  },
  {
   "cell_type": "code",
   "execution_count": 2,
   "metadata": {},
   "outputs": [],
   "source": [
    "data_file = \"./Data/stages_TDF.csv\""
   ]
  },
  {
   "cell_type": "code",
   "execution_count": 3,
   "metadata": {},
   "outputs": [],
   "source": [
    "def geoCode(place):\n",
    "    # simple geo code function using the goog tube\n",
    "    target_url = f\"https://maps.googleapis.com/maps/api/geocode/json?address={place}&key={gkey}\"\n",
    "    geo_data = requests.get(target_url).json()\n",
    "\n",
    "    # so much YOLO, wind it up like a top till it breaks\n",
    "    lat = 0\n",
    "    lng = 0\n",
    "    try:\n",
    "        lat = geo_data[\"results\"][0][\"geometry\"][\"location\"][\"lat\"]\n",
    "        lng = geo_data[\"results\"][0][\"geometry\"][\"location\"][\"lng\"]\n",
    "    except:\n",
    "        pass  # the dutchie to the left hand side\n",
    "\n"
   ]
  },
  {
   "cell_type": "code",
   "execution_count": 5,
   "metadata": {},
   "outputs": [],
   "source": [
    "# setup the DB\n",
    "db_connection_string = \"postgres:postgres@localhost:5433/TDF\"\n",
    "engine = create_engine(f'postgresql://{db_connection_string}')\n"
   ]
  },
  {
   "cell_type": "code",
   "execution_count": 6,
   "metadata": {},
   "outputs": [],
   "source": [
    "TDF_data_df = pd.read_csv(data_file)"
   ]
  },
  {
   "cell_type": "code",
   "execution_count": 7,
   "metadata": {},
   "outputs": [
    {
     "output_type": "execute_result",
     "data": {
      "text/plain": [
       "  Stage        Date  Distance             Origin  \\\n",
       "0     1  2017-07-01      14.0         Düsseldorf   \n",
       "1     2  2017-07-02     203.5         Düsseldorf   \n",
       "2     3  2017-07-03     212.5           Verviers   \n",
       "3     4  2017-07-04     207.5  Mondorf-les-Bains   \n",
       "4     5  2017-07-05     160.5             Vittel   \n",
       "\n",
       "                    Destination                   Type          Winner  \\\n",
       "0                    Düsseldorf  Individual time trial  Geraint Thomas   \n",
       "1                         Liège             Flat stage   Marcel Kittel   \n",
       "2                        Longwy  Medium mountain stage     Peter Sagan   \n",
       "3                        Vittel             Flat stage   Arnaud Démare   \n",
       "4  La Planche des Belles Filles  Medium mountain stage       Fabio Aru   \n",
       "\n",
       "  Winner_Country  \n",
       "0            GBR  \n",
       "1            GER  \n",
       "2            SVK  \n",
       "3            FRA  \n",
       "4            ITA  "
      ],
      "text/html": "<div>\n<style scoped>\n    .dataframe tbody tr th:only-of-type {\n        vertical-align: middle;\n    }\n\n    .dataframe tbody tr th {\n        vertical-align: top;\n    }\n\n    .dataframe thead th {\n        text-align: right;\n    }\n</style>\n<table border=\"1\" class=\"dataframe\">\n  <thead>\n    <tr style=\"text-align: right;\">\n      <th></th>\n      <th>Stage</th>\n      <th>Date</th>\n      <th>Distance</th>\n      <th>Origin</th>\n      <th>Destination</th>\n      <th>Type</th>\n      <th>Winner</th>\n      <th>Winner_Country</th>\n    </tr>\n  </thead>\n  <tbody>\n    <tr>\n      <th>0</th>\n      <td>1</td>\n      <td>2017-07-01</td>\n      <td>14.0</td>\n      <td>Düsseldorf</td>\n      <td>Düsseldorf</td>\n      <td>Individual time trial</td>\n      <td>Geraint Thomas</td>\n      <td>GBR</td>\n    </tr>\n    <tr>\n      <th>1</th>\n      <td>2</td>\n      <td>2017-07-02</td>\n      <td>203.5</td>\n      <td>Düsseldorf</td>\n      <td>Liège</td>\n      <td>Flat stage</td>\n      <td>Marcel Kittel</td>\n      <td>GER</td>\n    </tr>\n    <tr>\n      <th>2</th>\n      <td>3</td>\n      <td>2017-07-03</td>\n      <td>212.5</td>\n      <td>Verviers</td>\n      <td>Longwy</td>\n      <td>Medium mountain stage</td>\n      <td>Peter Sagan</td>\n      <td>SVK</td>\n    </tr>\n    <tr>\n      <th>3</th>\n      <td>4</td>\n      <td>2017-07-04</td>\n      <td>207.5</td>\n      <td>Mondorf-les-Bains</td>\n      <td>Vittel</td>\n      <td>Flat stage</td>\n      <td>Arnaud Démare</td>\n      <td>FRA</td>\n    </tr>\n    <tr>\n      <th>4</th>\n      <td>5</td>\n      <td>2017-07-05</td>\n      <td>160.5</td>\n      <td>Vittel</td>\n      <td>La Planche des Belles Filles</td>\n      <td>Medium mountain stage</td>\n      <td>Fabio Aru</td>\n      <td>ITA</td>\n    </tr>\n  </tbody>\n</table>\n</div>"
     },
     "metadata": {},
     "execution_count": 7
    }
   ],
   "source": [
    "TDF_data_df.head()"
   ]
  },
  {
   "cell_type": "code",
   "execution_count": 13,
   "metadata": {},
   "outputs": [
    {
     "output_type": "execute_result",
     "data": {
      "text/plain": [
       "41"
      ]
     },
     "metadata": {},
     "execution_count": 13
    }
   ],
   "source": [
    "country_df  = TDF_data_df[\"Winner_Country\"].unique()\n",
    "rider_df  = TDF_data_df[\"Winner\"].unique()\n",
    "origin_df  = TDF_data_df[\"Origin\"].unique()\n",
    "destination_df  = TDF_data_df[\"Destination\"].unique()\n",
    "\n",
    "len(country_df)"
   ]
  },
  {
   "cell_type": "code",
   "execution_count": null,
   "metadata": {},
   "outputs": [],
   "source": []
  }
 ]
}